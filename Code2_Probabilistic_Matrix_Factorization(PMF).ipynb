{
  "nbformat": 4,
  "nbformat_minor": 0,
  "metadata": {
    "colab": {
      "provenance": [],
      "collapsed_sections": [
        "ouyO02tFU6r7",
        "-XQOGm8oU-VZ",
        "-1Y8t5Il4o2k"
      ]
    },
    "kernelspec": {
      "name": "python3",
      "display_name": "Python 3"
    },
    "language_info": {
      "name": "python"
    }
  },
  "cells": [
    {
      "cell_type": "markdown",
      "source": [
        "### Importing Libraries"
      ],
      "metadata": {
        "id": "ouyO02tFU6r7"
      }
    },
    {
      "cell_type": "code",
      "execution_count": null,
      "metadata": {
        "id": "Xn0u6Gk1Uf7J"
      },
      "outputs": [],
      "source": [
        "import numpy as np\n",
        "import tensorflow as tf\n",
        "from sklearn.metrics import mean_squared_error\n",
        "import matplotlib.pyplot as plt\n",
        "import pandas as pd\n",
        "import random\n",
        "import warnings\n",
        "warnings.filterwarnings(\"ignore\", category=DeprecationWarning)\n",
        "warnings.filterwarnings(\"ignore\", category=FutureWarning)"
      ]
    },
    {
      "cell_type": "markdown",
      "source": [
        "### Loading Data"
      ],
      "metadata": {
        "id": "-XQOGm8oU-VZ"
      }
    },
    {
      "cell_type": "code",
      "source": [
        "train_data=np.load('ratings_train.npy')\n",
        "test_data=np.load('ratings_test.npy')\n",
        "train_data[np.isnan(train_data)] = 0\n",
        "test_data[np.isnan(test_data)] = 0"
      ],
      "metadata": {
        "id": "F68U88QRU9z6"
      },
      "execution_count": null,
      "outputs": []
    },
    {
      "cell_type": "code",
      "source": [
        "def matrix_to_triplet(data):\n",
        "    users, items = data.shape\n",
        "    user_ids, item_ids, ratings = [], [], []\n",
        "\n",
        "    for i in range(users):\n",
        "        for j in range(items):\n",
        "            if (data[i, j]>0):  # if the rating is not zero\n",
        "                user_ids.append(i)\n",
        "                item_ids.append(j)\n",
        "                ratings.append(data[i, j])\n",
        "\n",
        "    return pd.DataFrame({\n",
        "        'userID': user_ids,\n",
        "        'itemID': item_ids,\n",
        "        'rating': ratings\n",
        "    }),user_ids,item_ids\n",
        "\n",
        "train_triplet,user_ids,item_ids = matrix_to_triplet(train_data)"
      ],
      "metadata": {
        "id": "YXimLvOVZEHo"
      },
      "execution_count": null,
      "outputs": []
    },
    {
      "cell_type": "markdown",
      "source": [
        "### Defining functions"
      ],
      "metadata": {
        "id": "Q0e2ZKV0WNM2"
      }
    },
    {
      "cell_type": "code",
      "source": [
        "n_users=train_data.shape[0]\n",
        "n_movies=train_data.shape[1]\n",
        "n_dims = 10\n",
        "user_to_row = {i: i for i in range(n_users)}\n",
        "movie_to_column = {j: j for j in range(n_movies)}\n",
        "R = train_data.copy()\n",
        "\n"
      ],
      "metadata": {
        "id": "z5kKTdB6Zj1k"
      },
      "execution_count": null,
      "outputs": []
    },
    {
      "cell_type": "code",
      "source": [
        "parameters = {}"
      ],
      "metadata": {
        "id": "aSKcoPLgXiZw"
      },
      "execution_count": null,
      "outputs": []
    },
    {
      "cell_type": "markdown",
      "source": [
        "#### Initialize Parameters"
      ],
      "metadata": {
        "id": "GCnsd3dzyB83"
      }
    },
    {
      "cell_type": "code",
      "source": [
        "def initialize_parameters(lambda_U, lambda_V):\n",
        "    U = np.zeros((n_dims, n_users), dtype=np.float64)\n",
        "    V = np.random.normal(0.0, 1.0 / lambda_V, (n_dims, n_movies))\n",
        "\n",
        "    parameters['U'] = U\n",
        "    parameters['V'] = V\n",
        "    parameters['lambda_U'] = lambda_U\n",
        "    parameters['lambda_V'] = lambda_V"
      ],
      "metadata": {
        "id": "NIr5589_V8Yy"
      },
      "execution_count": null,
      "outputs": []
    },
    {
      "cell_type": "markdown",
      "source": [
        "#### Parameter Update"
      ],
      "metadata": {
        "id": "eXkCnF0XyG0G"
      }
    },
    {
      "cell_type": "code",
      "source": [
        "def update_parameters():\n",
        "    U = parameters['U']\n",
        "    V = parameters['V']\n",
        "    lambda_U = parameters['lambda_U']\n",
        "    lambda_V = parameters['lambda_V']\n",
        "\n",
        "    for i in range(n_users):\n",
        "        V_j = V[:, R[i, :] > 0]\n",
        "        U[:, i] = np.dot(np.linalg.inv(np.dot(V_j, V_j.T) + lambda_U * np.identity(n_dims)), np.dot(R[i, R[i, :] > 0], V_j.T))\n",
        "\n",
        "    for j in range(n_movies):\n",
        "        U_i = U[:, R[:, j] > 0]\n",
        "        V[:, j] = np.dot(np.linalg.inv(np.dot(U_i, U_i.T) + lambda_V * np.identity(n_dims)), np.dot(R[R[:, j] > 0, j], U_i.T))\n",
        "\n",
        "    parameters['U'] = U\n",
        "    parameters['V'] = V"
      ],
      "metadata": {
        "id": "zwe6bEF5lvUA"
      },
      "execution_count": null,
      "outputs": []
    },
    {
      "cell_type": "code",
      "source": [
        "\n",
        "def update_parameters():\n",
        "    U = parameters['U']\n",
        "    V = parameters['V']\n",
        "    lambda_U = parameters['lambda_U']\n",
        "    lambda_V = parameters['lambda_V']\n",
        "\n",
        "    for i in range(n_users):\n",
        "        V_j = V[:, R[i, :] > 0]\n",
        "        #print(\"V_j shape:\", V_j.shape)\n",
        "        #print(\"R[i, R[i, :] > 0] shape:\", R[i, R[i, :] > 0].shape)\n",
        "        U[:, i] = np.dot(np.linalg.inv(np.dot(V_j, V_j.T) + lambda_U * np.identity(n_dims)), np.dot(R[i, R[i, :] > 0], V_j.T))\n",
        "\n",
        "    for j in range(n_movies):\n",
        "        U_i = U[:, R[:, j] > 0]\n",
        "        V[:, j] = np.dot(np.linalg.inv(np.dot(U_i, U_i.T) + lambda_V * np.identity(n_dims)), np.dot(R[R[:, j] > 0, j], U_i.T))\n",
        "\n",
        "    parameters['U'] = U\n",
        "    parameters['V'] = V"
      ],
      "metadata": {
        "id": "U40WAl21WPyR"
      },
      "execution_count": null,
      "outputs": []
    },
    {
      "cell_type": "markdown",
      "source": [
        "#### Defining log-posterior"
      ],
      "metadata": {
        "id": "nSTy0QdHyPGc"
      }
    },
    {
      "cell_type": "code",
      "source": [
        "def log_a_posteriori():\n",
        "    lambda_U = parameters['lambda_U']\n",
        "    lambda_V = parameters['lambda_V']\n",
        "    U = parameters['U']\n",
        "    V = parameters['V']\n",
        "\n",
        "    UV = np.dot(U.T, V)\n",
        "    R_UV = (R[R > 0] - UV[R > 0])\n",
        "\n",
        "    return -0.5 * (np.sum(np.dot(R_UV, R_UV.T)) + lambda_U * np.sum(np.dot(U, U.T)) + lambda_V * np.sum(np.dot(V, V.T)))\n"
      ],
      "metadata": {
        "id": "Gi3zmTjpWS07"
      },
      "execution_count": null,
      "outputs": []
    },
    {
      "cell_type": "markdown",
      "source": [
        "#### Prediction and evaluation function"
      ],
      "metadata": {
        "id": "jrDpp6sDyaUW"
      }
    },
    {
      "cell_type": "markdown",
      "source": [
        "The predict function allows us to predict the rating value given the user_id and the movie_id parameters. The value has been scaled within the range 0-5"
      ],
      "metadata": {
        "id": "m1vhG1WyWdn_"
      }
    },
    {
      "cell_type": "code",
      "source": [
        "def predict(user_id, movie_id):\n",
        "    U = parameters['U']\n",
        "    V = parameters['V']\n",
        "\n",
        "    r_ij = U[:, user_to_row[user_id]].T.reshape(1, -1) @ V[:, movie_to_column[movie_id]].reshape(-1, 1)\n",
        "\n",
        "    max_rating = parameters['max_rating']\n",
        "    min_rating = parameters['min_rating']\n",
        "\n",
        "    return 0 if max_rating == min_rating else ((r_ij[0][0] - min_rating) / (max_rating - min_rating)) * 5.0\n"
      ],
      "metadata": {
        "id": "o30XBCmIWVwG"
      },
      "execution_count": null,
      "outputs": []
    },
    {
      "cell_type": "code",
      "source": [
        "def evaluate(train_data, test_data):\n",
        "    ground_truths = []\n",
        "    predictions = []\n",
        "\n",
        "    # Iterate through the test dataset\n",
        "    for i in range(test_data.shape[0]):\n",
        "        for j in range(test_data.shape[1]):\n",
        "            if (test_data[i, j]>0):  # Include if test is not NaN and train is NaN or 0\n",
        "                ground_truths.append(test_data[i, j])\n",
        "                predictions.append(predict(i, j))  # Use indices for user and movie\n",
        "\n",
        "    # Calculate RMSE only if there are predictions\n",
        "    if ground_truths:\n",
        "        return mean_squared_error(ground_truths, predictions, squared=False)\n",
        "    else:\n",
        "        return float('nan')  # If there are no valid predictions, return NaN\n"
      ],
      "metadata": {
        "id": "L2xAWl_ZWfP-"
      },
      "execution_count": null,
      "outputs": []
    },
    {
      "cell_type": "code",
      "source": [
        "def update_max_min_ratings():\n",
        "    U = parameters['U']\n",
        "    V = parameters['V']\n",
        "\n",
        "    R = U.T @ V\n",
        "    min_rating = np.min(R)\n",
        "    max_rating = np.max(R)\n",
        "\n",
        "    parameters['min_rating'] = min_rating\n",
        "    parameters['max_rating'] = max_rating"
      ],
      "metadata": {
        "id": "F5jX6hn5Wkt_"
      },
      "execution_count": null,
      "outputs": []
    },
    {
      "cell_type": "markdown",
      "source": [
        "#### Training function"
      ],
      "metadata": {
        "id": "aDyWnerMyqjH"
      }
    },
    {
      "cell_type": "code",
      "source": [
        "def train(n_epochs):\n",
        "    initialize_parameters(0.3, 0.3)\n",
        "    log_aps = []\n",
        "    #rmse_train = []\n",
        "    rmse_test = []\n",
        "\n",
        "    update_max_min_ratings()\n",
        "    #rmse_train.append(evaluate(train_data, train_data))  # Training evaluation\n",
        "    rmse_test.append(evaluate(train_data, test_data))    # Testing evaluation\n",
        "\n",
        "    for k in range(n_epochs):\n",
        "        update_parameters()\n",
        "        log_ap = log_a_posteriori()\n",
        "        log_aps.append(log_ap)\n",
        "\n",
        "        if (k + 1) % 10 == 0:\n",
        "            update_max_min_ratings()\n",
        "\n",
        "            #rmse_train.append(evaluate(train_data, train_data))\n",
        "            rmse_test.append(evaluate(train_data, test_data))\n",
        "            print('Log p a-posteriori at iteration', k + 1, ':', log_ap)\n",
        "\n",
        "    update_max_min_ratings()\n",
        "\n",
        "    return log_aps, rmse_test\n"
      ],
      "metadata": {
        "id": "j_I_D2eoiNWc"
      },
      "execution_count": null,
      "outputs": []
    },
    {
      "cell_type": "code",
      "source": [
        "log_ps, rmse_test = train(100)"
      ],
      "metadata": {
        "colab": {
          "base_uri": "https://localhost:8080/"
        },
        "id": "R0FNhabKWr62",
        "outputId": "d8737a0b-a561-49a0-e586-4cbfe54b6166",
        "collapsed": true
      },
      "execution_count": null,
      "outputs": [
        {
          "output_type": "stream",
          "name": "stderr",
          "text": [
            "/usr/local/lib/python3.10/dist-packages/sklearn/metrics/_regression.py:492: FutureWarning: 'squared' is deprecated in version 1.4 and will be removed in 1.6. To calculate the root mean squared error, use the function'root_mean_squared_error'.\n",
            "  warnings.warn(\n",
            "/usr/local/lib/python3.10/dist-packages/sklearn/metrics/_regression.py:492: FutureWarning: 'squared' is deprecated in version 1.4 and will be removed in 1.6. To calculate the root mean squared error, use the function'root_mean_squared_error'.\n",
            "  warnings.warn(\n"
          ]
        },
        {
          "output_type": "stream",
          "name": "stdout",
          "text": [
            "Log p a-posteriori at iteration 10 : -12008.489918351697\n"
          ]
        },
        {
          "output_type": "stream",
          "name": "stderr",
          "text": [
            "/usr/local/lib/python3.10/dist-packages/sklearn/metrics/_regression.py:492: FutureWarning: 'squared' is deprecated in version 1.4 and will be removed in 1.6. To calculate the root mean squared error, use the function'root_mean_squared_error'.\n",
            "  warnings.warn(\n"
          ]
        },
        {
          "output_type": "stream",
          "name": "stdout",
          "text": [
            "Log p a-posteriori at iteration 20 : -5229.911688410699\n"
          ]
        },
        {
          "output_type": "stream",
          "name": "stderr",
          "text": [
            "/usr/local/lib/python3.10/dist-packages/sklearn/metrics/_regression.py:492: FutureWarning: 'squared' is deprecated in version 1.4 and will be removed in 1.6. To calculate the root mean squared error, use the function'root_mean_squared_error'.\n",
            "  warnings.warn(\n"
          ]
        },
        {
          "output_type": "stream",
          "name": "stdout",
          "text": [
            "Log p a-posteriori at iteration 30 : -3646.1299047476623\n"
          ]
        },
        {
          "output_type": "stream",
          "name": "stderr",
          "text": [
            "/usr/local/lib/python3.10/dist-packages/sklearn/metrics/_regression.py:492: FutureWarning: 'squared' is deprecated in version 1.4 and will be removed in 1.6. To calculate the root mean squared error, use the function'root_mean_squared_error'.\n",
            "  warnings.warn(\n"
          ]
        },
        {
          "output_type": "stream",
          "name": "stdout",
          "text": [
            "Log p a-posteriori at iteration 40 : -3237.4969815093973\n"
          ]
        },
        {
          "output_type": "stream",
          "name": "stderr",
          "text": [
            "/usr/local/lib/python3.10/dist-packages/sklearn/metrics/_regression.py:492: FutureWarning: 'squared' is deprecated in version 1.4 and will be removed in 1.6. To calculate the root mean squared error, use the function'root_mean_squared_error'.\n",
            "  warnings.warn(\n"
          ]
        },
        {
          "output_type": "stream",
          "name": "stdout",
          "text": [
            "Log p a-posteriori at iteration 50 : -3204.473163843571\n"
          ]
        },
        {
          "output_type": "stream",
          "name": "stderr",
          "text": [
            "/usr/local/lib/python3.10/dist-packages/sklearn/metrics/_regression.py:492: FutureWarning: 'squared' is deprecated in version 1.4 and will be removed in 1.6. To calculate the root mean squared error, use the function'root_mean_squared_error'.\n",
            "  warnings.warn(\n"
          ]
        },
        {
          "output_type": "stream",
          "name": "stdout",
          "text": [
            "Log p a-posteriori at iteration 60 : -3278.484287931479\n"
          ]
        },
        {
          "output_type": "stream",
          "name": "stderr",
          "text": [
            "/usr/local/lib/python3.10/dist-packages/sklearn/metrics/_regression.py:492: FutureWarning: 'squared' is deprecated in version 1.4 and will be removed in 1.6. To calculate the root mean squared error, use the function'root_mean_squared_error'.\n",
            "  warnings.warn(\n"
          ]
        },
        {
          "output_type": "stream",
          "name": "stdout",
          "text": [
            "Log p a-posteriori at iteration 70 : -3384.996712517579\n"
          ]
        },
        {
          "output_type": "stream",
          "name": "stderr",
          "text": [
            "/usr/local/lib/python3.10/dist-packages/sklearn/metrics/_regression.py:492: FutureWarning: 'squared' is deprecated in version 1.4 and will be removed in 1.6. To calculate the root mean squared error, use the function'root_mean_squared_error'.\n",
            "  warnings.warn(\n"
          ]
        },
        {
          "output_type": "stream",
          "name": "stdout",
          "text": [
            "Log p a-posteriori at iteration 80 : -3494.2299125202317\n"
          ]
        },
        {
          "output_type": "stream",
          "name": "stderr",
          "text": [
            "/usr/local/lib/python3.10/dist-packages/sklearn/metrics/_regression.py:492: FutureWarning: 'squared' is deprecated in version 1.4 and will be removed in 1.6. To calculate the root mean squared error, use the function'root_mean_squared_error'.\n",
            "  warnings.warn(\n"
          ]
        },
        {
          "output_type": "stream",
          "name": "stdout",
          "text": [
            "Log p a-posteriori at iteration 90 : -3592.90070985049\n",
            "Log p a-posteriori at iteration 100 : -3676.4552728290664\n"
          ]
        },
        {
          "output_type": "stream",
          "name": "stderr",
          "text": [
            "/usr/local/lib/python3.10/dist-packages/sklearn/metrics/_regression.py:492: FutureWarning: 'squared' is deprecated in version 1.4 and will be removed in 1.6. To calculate the root mean squared error, use the function'root_mean_squared_error'.\n",
            "  warnings.warn(\n"
          ]
        }
      ]
    },
    {
      "cell_type": "code",
      "source": [
        "min(rmse_test)"
      ],
      "metadata": {
        "id": "t-vnMZptXRpk",
        "colab": {
          "base_uri": "https://localhost:8080/"
        },
        "outputId": "8980f296-6fac-414b-a3a9-dcb4e964877f"
      },
      "execution_count": null,
      "outputs": [
        {
          "output_type": "execute_result",
          "data": {
            "text/plain": [
              "1.195902728852581"
            ]
          },
          "metadata": {},
          "execution_count": 119
        }
      ]
    },
    {
      "cell_type": "markdown",
      "source": [
        "### Hyperparameter Tuning"
      ],
      "metadata": {
        "id": "E_nHcvCoy95u"
      }
    },
    {
      "cell_type": "markdown",
      "source": [
        "#### Data Split"
      ],
      "metadata": {
        "id": "-1Y8t5Il4o2k"
      }
    },
    {
      "cell_type": "code",
      "source": [
        "def train_val_split_dense(train_data, val_fraction=0.1, random_seed=42):\n",
        "    \"\"\"\n",
        "    Split the given dense train matrix into training and validation matrices by masking some entries.\n",
        "\n",
        "    Args:\n",
        "    - train_data: The original dense training matrix.\n",
        "    - val_fraction: Fraction of entries to mask for validation.\n",
        "    - random_seed: Random seed for reproducibility.\n",
        "\n",
        "    Returns:\n",
        "    - train_data_new: Training matrix with some entries removed.\n",
        "    - val_data: Validation matrix with the removed entries.\n",
        "    \"\"\"\n",
        "    np.random.seed(random_seed)\n",
        "\n",
        "    # Create validation matrix initialized with NaNs\n",
        "    val_data = np.full(train_data.shape, 0)\n",
        "\n",
        "    # Get the non-NaN entries of the train matrix\n",
        "    user_indices, item_indices = np.where((train_data>0))\n",
        "    non_nan_entries = list(zip(user_indices, item_indices))\n",
        "\n",
        "    # Shuffle and select a subset of these entries for validation\n",
        "    num_val = int(len(non_nan_entries) * val_fraction)\n",
        "    val_indices = np.random.choice(len(non_nan_entries), num_val, replace=False)\n",
        "\n",
        "    # Create a copy of the training data to mask some entries\n",
        "    train_data_new = train_data.copy()\n",
        "\n",
        "    # Mask selected entries from training and move them to validation\n",
        "    for idx in val_indices:\n",
        "        user, item = non_nan_entries[idx]\n",
        "        val_data[user, item] = train_data_new[user, item]  # Move to validation set\n",
        "        train_data_new[user, item] = 0  # Remove from training set\n",
        "\n",
        "    return train_data_new, val_data\n",
        "\n",
        "\n",
        "\n",
        "train_data_new, val_data = train_val_split_dense(train_data, val_fraction=0.2, random_seed=42)\n",
        "print(train_data_new.shape)\n",
        "print(val_data.shape)"
      ],
      "metadata": {
        "colab": {
          "base_uri": "https://localhost:8080/"
        },
        "id": "_o7iQRGQ0ATw",
        "outputId": "b6e3650c-c467-4b9f-bae0-92b3dab27f8d"
      },
      "execution_count": null,
      "outputs": [
        {
          "output_type": "stream",
          "name": "stdout",
          "text": [
            "(610, 4980)\n",
            "(610, 4980)\n"
          ]
        }
      ]
    },
    {
      "cell_type": "markdown",
      "source": [
        "#### Defining hyperparameterization function"
      ],
      "metadata": {
        "id": "rOmTr7N-4rqO"
      }
    },
    {
      "cell_type": "code",
      "source": [
        "def train_with_hyperparameters(lambda_U, lambda_V, n_dims, n_epochs=100):\n",
        "    parameters = {}\n",
        "    initialize_parameters(lambda_U, lambda_V)\n",
        "    log_aps = []\n",
        "    rmse_test = []\n",
        "    update_max_min_ratings()\n",
        "    rmse_test.append(evaluate(train_data_new, val_data))\n",
        "\n",
        "    for k in range(n_epochs):\n",
        "        update_parameters()\n",
        "        log_ap = log_a_posteriori()\n",
        "        log_aps.append(log_ap)\n",
        "\n",
        "        if (k + 1) % 10 == 0:\n",
        "            update_max_min_ratings()\n",
        "            rmse_test.append(evaluate(train_data_new, val_data))\n",
        "\n",
        "\n",
        "    update_max_min_ratings()\n",
        "\n",
        "    return log_aps, rmse_test[-1]\n",
        "\n",
        "\n",
        "\n",
        "\n",
        "\n",
        "\n",
        "# Hyperparameter tuning using grid search\n",
        "def hyperparameter_tuning(lambdas_U, lambdas_V, n_dims_list, n_epochs=100):\n",
        "    best_params = {}\n",
        "    best_rmse = float('inf')\n",
        "    rmse_val = []\n",
        "\n",
        "    for lambda_U in lambdas_U:\n",
        "        for lambda_V in lambdas_V:\n",
        "            for n_dims in n_dims_list:\n",
        "                print(f\"Testing: lambda_U={lambda_U}, lambda_V={lambda_V}, n_dims={n_dims}\")\n",
        "                log_aps, rmse_test = train_with_hyperparameters(lambda_U, lambda_V, n_dims, n_epochs)\n",
        "                rmse_val.append(rmse_test)\n",
        "                print(f\"Validation RMSE: {rmse_test}\")\n",
        "\n",
        "                if rmse_val[-1] < best_rmse:\n",
        "                    best_rmse = rmse_val[-1]\n",
        "                    best_params = {\n",
        "                        'lambda_U': lambda_U,\n",
        "                        'lambda_V': lambda_V,\n",
        "                        'n_dims': n_dims\n",
        "                    }\n",
        "\n",
        "    return best_params, best_rmse\n",
        "\n"
      ],
      "metadata": {
        "id": "rZ25GNHSxUhr"
      },
      "execution_count": null,
      "outputs": []
    },
    {
      "cell_type": "code",
      "source": [
        "lambdas_U = [0.1, 0.3, 0.5]\n",
        "lambdas_V = [0.1, 0.3, 0.5]\n",
        "n_dims_list = [5, 10, 20]\n",
        "\n",
        "# Run grid search\n",
        "best_params, best_rmse = hyperparameter_tuning(lambdas_U, lambdas_V, n_dims_list, n_epochs=100)\n",
        "print(\"Best hyperparameters:\", best_params)\n",
        "print(\"Best RMSE on test set:\", best_rmse)"
      ],
      "metadata": {
        "colab": {
          "base_uri": "https://localhost:8080/"
        },
        "id": "3KWNJuVS08zL",
        "outputId": "e903882e-f088-4139-fa0f-ace3cfffac54"
      },
      "execution_count": null,
      "outputs": [
        {
          "output_type": "stream",
          "name": "stdout",
          "text": [
            "Testing: lambda_U=0.1, lambda_V=0.1, n_dims=5\n",
            "Validation RMSE: 1.0669675540560475\n",
            "Testing: lambda_U=0.1, lambda_V=0.1, n_dims=10\n",
            "Validation RMSE: 1.1018290198810134\n",
            "Testing: lambda_U=0.1, lambda_V=0.1, n_dims=20\n",
            "Validation RMSE: 0.9508107599669322\n",
            "Testing: lambda_U=0.1, lambda_V=0.3, n_dims=5\n",
            "Validation RMSE: 1.2089422206670462\n",
            "Testing: lambda_U=0.1, lambda_V=0.3, n_dims=10\n",
            "Validation RMSE: 1.1532339482622627\n",
            "Testing: lambda_U=0.1, lambda_V=0.3, n_dims=20\n",
            "Validation RMSE: 1.1140352152087492\n",
            "Testing: lambda_U=0.1, lambda_V=0.5, n_dims=5\n",
            "Validation RMSE: 1.135891537628939\n",
            "Testing: lambda_U=0.1, lambda_V=0.5, n_dims=10\n",
            "Validation RMSE: 1.0653793559667106\n",
            "Testing: lambda_U=0.1, lambda_V=0.5, n_dims=20\n",
            "Validation RMSE: 1.0235756444318376\n",
            "Testing: lambda_U=0.3, lambda_V=0.1, n_dims=5\n",
            "Validation RMSE: 1.0181649114607256\n",
            "Testing: lambda_U=0.3, lambda_V=0.1, n_dims=10\n",
            "Validation RMSE: 1.199608277497845\n",
            "Testing: lambda_U=0.3, lambda_V=0.1, n_dims=20\n",
            "Validation RMSE: 0.9057302879234053\n",
            "Testing: lambda_U=0.3, lambda_V=0.3, n_dims=5\n",
            "Validation RMSE: 1.0091997216648025\n",
            "Testing: lambda_U=0.3, lambda_V=0.3, n_dims=10\n",
            "Validation RMSE: 0.9120755042341334\n",
            "Testing: lambda_U=0.3, lambda_V=0.3, n_dims=20\n",
            "Validation RMSE: 0.9239667974199469\n",
            "Testing: lambda_U=0.3, lambda_V=0.5, n_dims=5\n",
            "Validation RMSE: 1.1972106684428334\n",
            "Testing: lambda_U=0.3, lambda_V=0.5, n_dims=10\n",
            "Validation RMSE: 1.0338866789096806\n",
            "Testing: lambda_U=0.3, lambda_V=0.5, n_dims=20\n",
            "Validation RMSE: 1.0679142058340307\n",
            "Testing: lambda_U=0.5, lambda_V=0.1, n_dims=5\n",
            "Validation RMSE: 0.8828242778204574\n",
            "Testing: lambda_U=0.5, lambda_V=0.1, n_dims=10\n",
            "Validation RMSE: 0.9769977955248744\n",
            "Testing: lambda_U=0.5, lambda_V=0.1, n_dims=20\n",
            "Validation RMSE: 1.128572201979971\n",
            "Testing: lambda_U=0.5, lambda_V=0.3, n_dims=5\n",
            "Validation RMSE: 1.1392751991011765\n",
            "Testing: lambda_U=0.5, lambda_V=0.3, n_dims=10\n",
            "Validation RMSE: 0.999079630379083\n",
            "Testing: lambda_U=0.5, lambda_V=0.3, n_dims=20\n",
            "Validation RMSE: 1.0041464584081237\n",
            "Testing: lambda_U=0.5, lambda_V=0.5, n_dims=5\n",
            "Validation RMSE: 0.9465526891920454\n",
            "Testing: lambda_U=0.5, lambda_V=0.5, n_dims=10\n",
            "Validation RMSE: 1.1706993693997847\n",
            "Testing: lambda_U=0.5, lambda_V=0.5, n_dims=20\n",
            "Validation RMSE: 1.0947137853369717\n",
            "Best hyperparameters: {'lambda_U': 0.5, 'lambda_V': 0.1, 'n_dims': 5}\n",
            "Best RMSE on test set: 0.8828242778204574\n"
          ]
        }
      ]
    },
    {
      "cell_type": "code",
      "source": [],
      "metadata": {
        "id": "puaRWfEG1Boj"
      },
      "execution_count": null,
      "outputs": []
    },
    {
      "cell_type": "markdown",
      "source": [
        "### Final training and evaluation"
      ],
      "metadata": {
        "id": "YNlw4hTkAwMo"
      }
    },
    {
      "cell_type": "code",
      "source": [
        "def final_train(lambda_U, lambda_V, n_dims, n_epochs=100):\n",
        "    parameters = {}\n",
        "    initialize_parameters(lambda_U, lambda_V)\n",
        "    log_aps = []\n",
        "    rmse_test = []\n",
        "    update_max_min_ratings()\n",
        "    rmse_test.append(evaluate(train_data, test_data))\n",
        "\n",
        "    for k in range(n_epochs):\n",
        "        update_parameters()\n",
        "        log_ap = log_a_posteriori()\n",
        "        log_aps.append(log_ap)\n",
        "\n",
        "        if (k + 1) % 10 == 0:\n",
        "            update_max_min_ratings()\n",
        "            rmse_test.append(evaluate(train_data_new, val_data))\n",
        "\n",
        "\n",
        "    update_max_min_ratings()\n",
        "\n",
        "    return log_aps, rmse_test[-1]\n",
        "\n",
        "log_aps, rmse_test_final = final_train(0.5,0.1, 5, 100)"
      ],
      "metadata": {
        "id": "GfefF0CMBGgc"
      },
      "execution_count": null,
      "outputs": []
    },
    {
      "cell_type": "code",
      "source": [
        "print(rmse_test_final)"
      ],
      "metadata": {
        "colab": {
          "base_uri": "https://localhost:8080/"
        },
        "id": "yg2UjTqrCQ4w",
        "outputId": "bde3aa14-028b-410a-ac5b-fdea7caeeea4"
      },
      "execution_count": null,
      "outputs": [
        {
          "output_type": "stream",
          "name": "stdout",
          "text": [
            "1.0349574091720315\n"
          ]
        }
      ]
    },
    {
      "cell_type": "code",
      "source": [],
      "metadata": {
        "id": "1_AUdxAYCTXK"
      },
      "execution_count": null,
      "outputs": []
    }
  ]
}